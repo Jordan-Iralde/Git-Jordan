{
 "cells": [
  {
   "cell_type": "code",
   "execution_count": null,
   "metadata": {},
   "outputs": [],
   "source": [
    "import pandas as pd\n",
    "import numpy as np\n",
    "\n",
    "url = 'https://drive.google.com/uc?id=1MqW2EpcIAnmffzu64-bq4kBv-07y9ILT'\n",
    "df = pd.read_csv(url, delimiter=';')\n",
    "\n",
    "print(df)"
   ]
  },
  {
   "cell_type": "code",
   "execution_count": null,
   "metadata": {},
   "outputs": [],
   "source": [
    "print(df.head())"
   ]
  },
  {
   "cell_type": "code",
   "execution_count": null,
   "metadata": {},
   "outputs": [],
   "source": [
    "print(df.describe())"
   ]
  },
  {
   "cell_type": "code",
   "execution_count": null,
   "metadata": {},
   "outputs": [],
   "source": [
    "print(df.info())"
   ]
  },
  {
   "cell_type": "code",
   "execution_count": 43,
   "metadata": {},
   "outputs": [
    {
     "name": "stdout",
     "output_type": "stream",
     "text": [
      "      id   Palabra Lenguaje         Tipo\n",
      "0    1.0       and   python     operador\n",
      "1    2.0        as   python            n\n",
      "3    4.0     async   python            n\n",
      "4    5.0     await   python            n\n",
      "5    6.0     break   python        ciclo\n",
      "6    7.0     class   python            n\n",
      "7    8.0  continue   python      funcion\n",
      "8    9.0       def   python      funcion\n",
      "9   10.0       del   python            n\n",
      "10  11.0      elif   python  condicional\n",
      "11  12.0      else   python  condicional\n",
      "12  13.0    except   python            n\n",
      "13  14.0     False   python            n\n",
      "14  15.0   finally   python            n\n",
      "15  16.0       for   python        ciclo\n",
      "16  17.0      from   python            n\n",
      "17  18.0    global   python            n\n",
      "18  19.0        if   python  condicional\n",
      "19  20.0    import   python            n\n",
      "20  21.0        in   python            n\n",
      "21  22.0        is   python            n\n",
      "22  23.0    lambda   python            n\n",
      "24  25.0  nonlocal   python            n\n",
      "25  26.0       not   python     operador\n",
      "26  27.0        or   python     operador\n",
      "27  28.0      pass   python            n\n",
      "28  29.0     raise   python            n\n",
      "29  30.0    return   python            n\n",
      "30  31.0      True   python            n\n",
      "31  32.0       try   python            n\n",
      "32  33.0     while   python        ciclo\n",
      "33  34.0      with   python            n\n",
      "34  35.0     yield   python            n\n"
     ]
    }
   ],
   "source": [
    "df = df.dropna()\n",
    "print(df)"
   ]
  },
  {
   "cell_type": "code",
   "execution_count": null,
   "metadata": {},
   "outputs": [],
   "source": [
    "print(df.columns)\n",
    "#df['NuevaColumna'] = None   #Esto agreaga una nueva columna, solo que queda raro"
   ]
  },
  {
   "cell_type": "code",
   "execution_count": 50,
   "metadata": {},
   "outputs": [
    {
     "name": "stdout",
     "output_type": "stream",
     "text": [
      "class\n"
     ]
    }
   ],
   "source": [
    "casilla = df.iloc[5,1] #Encuentra una celda especifica como una matriz[0,0]\n",
    "print(casilla)"
   ]
  },
  {
   "cell_type": "code",
   "execution_count": 42,
   "metadata": {},
   "outputs": [
    {
     "ename": "KeyError",
     "evalue": "'columna'",
     "output_type": "error",
     "traceback": [
      "\u001b[1;31m---------------------------------------------------------------------------\u001b[0m",
      "\u001b[1;31mKeyError\u001b[0m                                  Traceback (most recent call last)",
      "File \u001b[1;32mc:\\Users\\ProaLaFalda\\AppData\\Local\\Programs\\Python\\Python311\\Lib\\site-packages\\pandas\\core\\indexes\\base.py:3790\u001b[0m, in \u001b[0;36mIndex.get_loc\u001b[1;34m(self, key)\u001b[0m\n\u001b[0;32m   3789\u001b[0m \u001b[39mtry\u001b[39;00m:\n\u001b[1;32m-> 3790\u001b[0m     \u001b[39mreturn\u001b[39;00m \u001b[39mself\u001b[39;49m\u001b[39m.\u001b[39;49m_engine\u001b[39m.\u001b[39;49mget_loc(casted_key)\n\u001b[0;32m   3791\u001b[0m \u001b[39mexcept\u001b[39;00m \u001b[39mKeyError\u001b[39;00m \u001b[39mas\u001b[39;00m err:\n",
      "File \u001b[1;32mindex.pyx:152\u001b[0m, in \u001b[0;36mpandas._libs.index.IndexEngine.get_loc\u001b[1;34m()\u001b[0m\n",
      "File \u001b[1;32mindex.pyx:181\u001b[0m, in \u001b[0;36mpandas._libs.index.IndexEngine.get_loc\u001b[1;34m()\u001b[0m\n",
      "File \u001b[1;32mpandas\\_libs\\hashtable_class_helper.pxi:7080\u001b[0m, in \u001b[0;36mpandas._libs.hashtable.PyObjectHashTable.get_item\u001b[1;34m()\u001b[0m\n",
      "File \u001b[1;32mpandas\\_libs\\hashtable_class_helper.pxi:7088\u001b[0m, in \u001b[0;36mpandas._libs.hashtable.PyObjectHashTable.get_item\u001b[1;34m()\u001b[0m\n",
      "\u001b[1;31mKeyError\u001b[0m: 'columna'",
      "\nThe above exception was the direct cause of the following exception:\n",
      "\u001b[1;31mKeyError\u001b[0m                                  Traceback (most recent call last)",
      "Cell \u001b[1;32mIn[42], line 3\u001b[0m\n\u001b[0;32m      1\u001b[0m valor \u001b[39m=\u001b[39m \u001b[39m'\u001b[39m\u001b[39mhola mundo\u001b[39m\u001b[39m'\u001b[39m\n\u001b[1;32m----> 3\u001b[0m df[\u001b[39m'\u001b[39m\u001b[39mTipo\u001b[39m\u001b[39m'\u001b[39m] \u001b[39m=\u001b[39m df[\u001b[39m'\u001b[39;49m\u001b[39mcolumna\u001b[39;49m\u001b[39m'\u001b[39;49m]\u001b[39m.\u001b[39mfillna(valor)\n\u001b[0;32m      4\u001b[0m \u001b[39mprint\u001b[39m(df)\n",
      "File \u001b[1;32mc:\\Users\\ProaLaFalda\\AppData\\Local\\Programs\\Python\\Python311\\Lib\\site-packages\\pandas\\core\\frame.py:3896\u001b[0m, in \u001b[0;36mDataFrame.__getitem__\u001b[1;34m(self, key)\u001b[0m\n\u001b[0;32m   3894\u001b[0m \u001b[39mif\u001b[39;00m \u001b[39mself\u001b[39m\u001b[39m.\u001b[39mcolumns\u001b[39m.\u001b[39mnlevels \u001b[39m>\u001b[39m \u001b[39m1\u001b[39m:\n\u001b[0;32m   3895\u001b[0m     \u001b[39mreturn\u001b[39;00m \u001b[39mself\u001b[39m\u001b[39m.\u001b[39m_getitem_multilevel(key)\n\u001b[1;32m-> 3896\u001b[0m indexer \u001b[39m=\u001b[39m \u001b[39mself\u001b[39;49m\u001b[39m.\u001b[39;49mcolumns\u001b[39m.\u001b[39;49mget_loc(key)\n\u001b[0;32m   3897\u001b[0m \u001b[39mif\u001b[39;00m is_integer(indexer):\n\u001b[0;32m   3898\u001b[0m     indexer \u001b[39m=\u001b[39m [indexer]\n",
      "File \u001b[1;32mc:\\Users\\ProaLaFalda\\AppData\\Local\\Programs\\Python\\Python311\\Lib\\site-packages\\pandas\\core\\indexes\\base.py:3797\u001b[0m, in \u001b[0;36mIndex.get_loc\u001b[1;34m(self, key)\u001b[0m\n\u001b[0;32m   3792\u001b[0m     \u001b[39mif\u001b[39;00m \u001b[39misinstance\u001b[39m(casted_key, \u001b[39mslice\u001b[39m) \u001b[39mor\u001b[39;00m (\n\u001b[0;32m   3793\u001b[0m         \u001b[39misinstance\u001b[39m(casted_key, abc\u001b[39m.\u001b[39mIterable)\n\u001b[0;32m   3794\u001b[0m         \u001b[39mand\u001b[39;00m \u001b[39many\u001b[39m(\u001b[39misinstance\u001b[39m(x, \u001b[39mslice\u001b[39m) \u001b[39mfor\u001b[39;00m x \u001b[39min\u001b[39;00m casted_key)\n\u001b[0;32m   3795\u001b[0m     ):\n\u001b[0;32m   3796\u001b[0m         \u001b[39mraise\u001b[39;00m InvalidIndexError(key)\n\u001b[1;32m-> 3797\u001b[0m     \u001b[39mraise\u001b[39;00m \u001b[39mKeyError\u001b[39;00m(key) \u001b[39mfrom\u001b[39;00m \u001b[39merr\u001b[39;00m\n\u001b[0;32m   3798\u001b[0m \u001b[39mexcept\u001b[39;00m \u001b[39mTypeError\u001b[39;00m:\n\u001b[0;32m   3799\u001b[0m     \u001b[39m# If we have a listlike key, _check_indexing_error will raise\u001b[39;00m\n\u001b[0;32m   3800\u001b[0m     \u001b[39m#  InvalidIndexError. Otherwise we fall through and re-raise\u001b[39;00m\n\u001b[0;32m   3801\u001b[0m     \u001b[39m#  the TypeError.\u001b[39;00m\n\u001b[0;32m   3802\u001b[0m     \u001b[39mself\u001b[39m\u001b[39m.\u001b[39m_check_indexing_error(key)\n",
      "\u001b[1;31mKeyError\u001b[0m: 'columna'"
     ]
    }
   ],
   "source": [
    "valor = 'hola mundo'\n",
    "\n",
    "df['Tipo'] = df['columna'].fillna(valor)\n",
    "print(df)"
   ]
  },
  {
   "cell_type": "code",
   "execution_count": null,
   "metadata": {},
   "outputs": [],
   "source": [
    "df = df.drop_duplicates()"
   ]
  },
  {
   "cell_type": "code",
   "execution_count": null,
   "metadata": {},
   "outputs": [],
   "source": [
    "# Delimitar los campos con ;\n",
    "\n",
    "df = pd.read_csv(url, delimiter=';')\n",
    "\n",
    "moda_tipo = df['Tipo'].mode()\n",
    "print(df)\n",
    "\n",
    "# Calcular la moda de una columna\n",
    "\n",
    "print(\"La moda de la columna 'Tipo ' es:\")\n",
    "print(moda_tipo)"
   ]
  },
  {
   "cell_type": "code",
   "execution_count": null,
   "metadata": {},
   "outputs": [],
   "source": [
    "# Calcular la media de una columna\n",
    "\n",
    "df = pd.read_csv(url, delimiter=';')\n",
    "media = df['Tipo'].mean()"
   ]
  },
  {
   "cell_type": "code",
   "execution_count": 30,
   "metadata": {},
   "outputs": [
    {
     "name": "stdout",
     "output_type": "stream",
     "text": [
      "    id   Palabra Lenguaje         Tipo\n",
      "0    1       and   python     operador\n",
      "1    2        as   python            n\n",
      "2    3    assert   python            n\n",
      "3    4     async   python            n\n",
      "4    5     await   python            n\n",
      "5    6     break   python        ciclo\n",
      "6    7     class   python            n\n",
      "7    8  continue   python      funcion\n",
      "8    9       def   python      funcion\n",
      "9   10       del   python            n\n",
      "10  11      elif   python  condicional\n",
      "11  12      else   python  condicional\n",
      "12  13    except   python            n\n",
      "13  14     False   python            n\n",
      "14  15   finally   python            n\n",
      "15  16       for   python        ciclo\n",
      "16  17      from   python            n\n",
      "17  18    global   python            n\n",
      "18  19        if   python  condicional\n",
      "19  20    import   python            n\n",
      "20  21        in   python            n\n",
      "21  22        is   python            n\n",
      "22  23    lambda   python            n\n",
      "23  24       NaN   python            n\n",
      "24  25  nonlocal   python            n\n",
      "25  26       not   python     operador\n",
      "26  27        or   python     operador\n",
      "27  28      pass   python            n\n",
      "28  29     raise   python            n\n",
      "29  30    return   python            n\n",
      "30  31      True   python            n\n",
      "31  32       try   python            n\n",
      "32  33     while   python        ciclo\n",
      "33  34      with   python            n\n",
      "34  35     yield   python            n\n",
      "la media es  18.0\n"
     ]
    }
   ],
   "source": [
    "# Calcular la mediana de una columna\n",
    "df = pd.read_csv(url, delimiter=';')\n",
    "mediana = df['id'].median() #no es un numero 'Tipo'\n",
    "print(df)\n",
    "print(\"la media es \", mediana)"
   ]
  }
 ],
 "metadata": {
  "kernelspec": {
   "display_name": "Python 3",
   "language": "python",
   "name": "python3"
  },
  "language_info": {
   "codemirror_mode": {
    "name": "ipython",
    "version": 3
   },
   "file_extension": ".py",
   "mimetype": "text/x-python",
   "name": "python",
   "nbconvert_exporter": "python",
   "pygments_lexer": "ipython3",
   "version": "3.11.5"
  },
  "orig_nbformat": 4
 },
 "nbformat": 4,
 "nbformat_minor": 2
}
