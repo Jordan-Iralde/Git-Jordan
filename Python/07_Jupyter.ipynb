{
 "cells": [
  {
   "cell_type": "code",
   "execution_count": null,
   "metadata": {},
   "outputs": [],
   "source": [
    "nombre = input(\"ingrese su nombre: \")\n",
    "edad = input(\"ingrese su edad: \")"
   ]
  },
  {
   "cell_type": "code",
   "execution_count": null,
   "metadata": {},
   "outputs": [],
   "source": [
    "def presentacion(a,b):\n",
    "    nombreEdad = \"Mi nombre es \" + a + \" y tengo \" + b + \" años.\"\n",
    "    return(nombreEdad)"
   ]
  },
  {
   "cell_type": "code",
   "execution_count": null,
   "metadata": {},
   "outputs": [],
   "source": [
    "frase = presentacion(nombre,edad)\n",
    "print(frase)"
   ]
  }
 ],
 "metadata": {
  "language_info": {
   "name": "python"
  },
  "orig_nbformat": 4
 },
 "nbformat": 4,
 "nbformat_minor": 2
}
