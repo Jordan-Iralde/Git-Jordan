{
 "cells": [
  {
   "cell_type": "code",
   "execution_count": 1,
   "metadata": {},
   "outputs": [],
   "source": [
    "def MenuInicio():\n",
    "    menu = '''\n",
    "    1-  Suma\n",
    "    2-  Resta\n",
    "    3-  Multiplicacion\n",
    "    4-  Division\n",
    "    \n",
    "    5-  Salir\n",
    "    '''\n",
    "    return(print(menu))"
   ]
  },
  {
   "cell_type": "code",
   "execution_count": 2,
   "metadata": {},
   "outputs": [],
   "source": [
    "def Suma(a, b):\n",
    "    return(a+b)"
   ]
  },
  {
   "cell_type": "code",
   "execution_count": 3,
   "metadata": {},
   "outputs": [],
   "source": [
    "def Resta(a, b):\n",
    "    return(a-b)"
   ]
  },
  {
   "cell_type": "code",
   "execution_count": 4,
   "metadata": {},
   "outputs": [],
   "source": [
    "def Multiplicacion(a, b):\n",
    "    return(a*b)"
   ]
  },
  {
   "cell_type": "code",
   "execution_count": 11,
   "metadata": {},
   "outputs": [],
   "source": [
    "def Division(a, b):\n",
    "    while True:\n",
    "        try:\n",
    "            calculoDivision = a / b\n",
    "            if calculoDivision == 0:\n",
    "                break\n",
    "            else:\n",
    "                return(print(calculoDivision))\n",
    "        except ZeroDivisionError:\n",
    "            print(\"error en la division por cero, vuelva al menu.\")\n",
    "            break"
   ]
  },
  {
   "cell_type": "code",
   "execution_count": 13,
   "metadata": {},
   "outputs": [
    {
     "name": "stdout",
     "output_type": "stream",
     "text": [
      "\n",
      "    1-  Suma\n",
      "    2-  Resta\n",
      "    3-  Multiplicacion\n",
      "    4-  Division\n",
      "    \n",
      "    5-  Salir\n",
      "    \n",
      "error en la division por cero, vuelva al menu.\n",
      "el resultado es None\n",
      "\n",
      "    1-  Suma\n",
      "    2-  Resta\n",
      "    3-  Multiplicacion\n",
      "    4-  Division\n",
      "    \n",
      "    5-  Salir\n",
      "    \n"
     ]
    },
    {
     "ename": "ValueError",
     "evalue": "invalid literal for int() with base 10: ''",
     "output_type": "error",
     "traceback": [
      "\u001b[1;31m---------------------------------------------------------------------------\u001b[0m",
      "\u001b[1;31mValueError\u001b[0m                                Traceback (most recent call last)",
      "Cell \u001b[1;32mIn[13], line 4\u001b[0m\n\u001b[0;32m      1\u001b[0m \u001b[39mwhile\u001b[39;00m \u001b[39mTrue\u001b[39;00m:\n\u001b[0;32m      2\u001b[0m     MenuInicio()\n\u001b[1;32m----> 4\u001b[0m     opcion \u001b[39m=\u001b[39m \u001b[39mint\u001b[39;49m(\u001b[39minput\u001b[39;49m(\u001b[39m\"\u001b[39;49m\u001b[39mingrese la opcion deseada: \u001b[39;49m\u001b[39m\"\u001b[39;49m))\n\u001b[0;32m      5\u001b[0m     \u001b[39mif\u001b[39;00m opcion \u001b[39m==\u001b[39m \u001b[39m5\u001b[39m:\n\u001b[0;32m      6\u001b[0m         \u001b[39mbreak\u001b[39;00m\n",
      "\u001b[1;31mValueError\u001b[0m: invalid literal for int() with base 10: ''"
     ]
    }
   ],
   "source": [
    "while True:\n",
    "    MenuInicio()\n",
    "    \n",
    "    opcion = int(input(\"ingrese la opcion deseada: \"))\n",
    "    if opcion == 5:\n",
    "        break\n",
    "    num1= int(input(\"ingrese el numero 1: \"))\n",
    "    num2 = int(input(\"ingrese el numero 2: \"))\n",
    "    if opcion == 1:\n",
    "        CalculoSuma = Suma(num1, num2)\n",
    "        print(f\"el resultado es {CalculoSuma}\")\n",
    "\n",
    "    elif opcion == 2:\n",
    "        CalculoResta= Resta(num1, num2)\n",
    "        print(f\"el resultado es {CalculoResta}\")\n",
    "\n",
    "    elif opcion == 3:\n",
    "        CalculoMultiplicacion = Multiplicacion(num1, num2)\n",
    "        print(f\"el resultado es {CalculoMultiplicacion}\")\n",
    "\n",
    "    elif opcion == 4:\n",
    "        print(f\"el resultado es {Division(num1, num2)}\")\n",
    "    else:\n",
    "        break"
   ]
  }
 ],
 "metadata": {
  "kernelspec": {
   "display_name": "Python 3",
   "language": "python",
   "name": "python3"
  },
  "language_info": {
   "codemirror_mode": {
    "name": "ipython",
    "version": 3
   },
   "file_extension": ".py",
   "mimetype": "text/x-python",
   "name": "python",
   "nbconvert_exporter": "python",
   "pygments_lexer": "ipython3",
   "version": "3.11.1"
  },
  "orig_nbformat": 4
 },
 "nbformat": 4,
 "nbformat_minor": 2
}
