{
 "cells": [
  {
   "cell_type": "code",
   "execution_count": 6,
   "metadata": {},
   "outputs": [],
   "source": [
    "def menu():\n",
    "    MenuInicio = '''\n",
    "    =================================\n",
    "    =   1-  Farenheit a Celcius     =\n",
    "    =   2-  Celsius a Farenheit     =\n",
    "    =   3-  Salir                   =\n",
    "    =================================\n",
    "    '''\n",
    "    return (print(MenuInicio))"
   ]
  },
  {
   "cell_type": "code",
   "execution_count": 8,
   "metadata": {},
   "outputs": [],
   "source": [
    "def FarenheitC(F):\n",
    "    Calculo_Celsius = 5*(F-32)/9\n",
    "    return (print(Calculo_Celsius))"
   ]
  },
  {
   "cell_type": "code",
   "execution_count": 9,
   "metadata": {},
   "outputs": [],
   "source": [
    "def CelsiusF(C):\n",
    "    Calculo_Farenheit = 9*C/5 + 32\n",
    "    return (print(Calculo_Farenheit))"
   ]
  },
  {
   "cell_type": "code",
   "execution_count": 14,
   "metadata": {},
   "outputs": [
    {
     "name": "stdout",
     "output_type": "stream",
     "text": [
      "\n",
      "    =================================\n",
      "    =   1-  Farenheit a Celcius     =\n",
      "    =   2-  Celsius a Farenheit     =\n",
      "    =   3-  Salir                   =\n",
      "    =================================\n",
      "    \n",
      "10.0\n",
      "\n",
      "    =================================\n",
      "    =   1-  Farenheit a Celcius     =\n",
      "    =   2-  Celsius a Farenheit     =\n",
      "    =   3-  Salir                   =\n",
      "    =================================\n",
      "    \n",
      "error, dato no valido\n",
      "\n",
      "    =================================\n",
      "    =   1-  Farenheit a Celcius     =\n",
      "    =   2-  Celsius a Farenheit     =\n",
      "    =   3-  Salir                   =\n",
      "    =================================\n",
      "    \n",
      "error, dato no valido\n",
      "\n",
      "    =================================\n",
      "    =   1-  Farenheit a Celcius     =\n",
      "    =   2-  Celsius a Farenheit     =\n",
      "    =   3-  Salir                   =\n",
      "    =================================\n",
      "    \n"
     ]
    }
   ],
   "source": [
    "while True:\n",
    "    try:\n",
    "        menu()\n",
    "\n",
    "        opcion = int(input(\"Ingrese una de las 3 opciones: \"))\n",
    "        \n",
    "        if opcion == 1:\n",
    "            F = float(input(\"Ingrese el valor de grados Farenheit: \"))\n",
    "            FarenheitC(F)\n",
    "        elif opcion == 2:\n",
    "            C = float(input(\"Ingrese el valor de grados Celsius: \"))\n",
    "            CelsiusF(C)\n",
    "        else:\n",
    "            break\n",
    "    except ValueError:\n",
    "        print(\"error, dato no valido\")"
   ]
  }
 ],
 "metadata": {
  "kernelspec": {
   "display_name": "Python 3",
   "language": "python",
   "name": "python3"
  },
  "language_info": {
   "codemirror_mode": {
    "name": "ipython",
    "version": 3
   },
   "file_extension": ".py",
   "mimetype": "text/x-python",
   "name": "python",
   "nbconvert_exporter": "python",
   "pygments_lexer": "ipython3",
   "version": "3.11.3"
  },
  "orig_nbformat": 4
 },
 "nbformat": 4,
 "nbformat_minor": 2
}
